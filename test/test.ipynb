{
 "cells": [
  {
   "cell_type": "code",
   "execution_count": null,
   "metadata": {},
   "outputs": [],
   "source": [
    "!pip3 install onnxruntime"
   ]
  },
  {
   "cell_type": "code",
   "execution_count": 2,
   "metadata": {},
   "outputs": [],
   "source": [
    "import pandas as pd\n",
    "import numpy as np\n",
    "import onnxruntime as rt\n"
   ]
  },
  {
   "cell_type": "code",
   "execution_count": 4,
   "metadata": {},
   "outputs": [],
   "source": [
    "# preload model\n",
    "respeck = rt.InferenceSession(\"model/respeck.onnx\")\n",
    "thingy = rt.InferenceSession(\"model/thingy.onnx\")\n",
    "input_name_respeck = respeck.get_inputs()[0].name\n",
    "label_name_respeck = respeck.get_outputs()[0].name\n",
    "input_name_thingy = thingy.get_inputs()[0].name\n",
    "label_name_thingy = thingy.get_outputs()[0].name\n",
    "\n",
    "class_labels = {\n",
    "    'Desk work': 0,\n",
    "    'Walking at normal speed': 1,\n",
    "    'Standing': 2 ,\n",
    "    'Sitting bent forward': 3,\n",
    "    'Sitting': 4,\n",
    "    'Sitting bent backward': 5,\n",
    "    'Lying down right': 6,\n",
    "    'Lying down left':7 ,\n",
    "    'Lying down on back':8 ,\n",
    "    'Lying down on stomach': 9, \n",
    "    'Movement': 10, \n",
    "    'Running': 11, \n",
    "    'Climbing stairs':12,\n",
    "    'Descending stairs': 13\n",
    "}\n"
   ]
  },
  {
   "cell_type": "code",
   "execution_count": 5,
   "metadata": {},
   "outputs": [],
   "source": [
    "def rep_predict():\n",
    "    resDf = pd.read_csv(\"cache/res.csv\")\n",
    "    res_columns_of_interest = [\n",
    "        'accel_x', 'accel_y', 'accel_z', 'gyro_x', 'gyro_y', 'gyro_z'\n",
    "    ]\n",
    "\n",
    "    resFeatures = []\n",
    "    \n",
    "    for feature in res_columns_of_interest:\n",
    "        data = np.array(resDf[feature].to_list())\n",
    "        resFeatures.append(np.sum(data))\n",
    "        resFeatures.append(np.median(data))\n",
    "        resFeatures.append(np.mean(data))\n",
    "        resFeatures.append(50)\n",
    "        resFeatures.append(np.std(data))\n",
    "        resFeatures.append(np.var(data))\n",
    "        resFeatures.append(np.sqrt(np.mean(data**2)))\n",
    "        resFeatures.append(max(data))\n",
    "        resFeatures.append(max(map(abs, data)))\n",
    "        resFeatures.append(min(data))\n",
    "    resFeatures = np.array([resFeatures])\n",
    "    resFeatures = resFeatures.astype(np.float32)\n",
    "    pred_onx = respeck.run([label_name_respeck], {input_name_respeck: resFeatures})[0]\n",
    "    return pred_onx\n",
    "        "
   ]
  },
  {
   "cell_type": "code",
   "execution_count": 7,
   "metadata": {},
   "outputs": [],
   "source": [
    "def thingy_predict():\n",
    "    \n",
    "    thiDf = pd.read_csv(\"cache/thi.csv\")\n",
    "\n",
    "    thi_columns_of_interest = [\n",
    "        'accel_x', 'accel_y', 'accel_z', 'gyro_x', 'gyro_y', 'gyro_z', 'mag_x',\n",
    "        'mag_y', 'mag_z'\n",
    "    ]\n",
    "\n",
    "    thiFeatures = []\n",
    "\n",
    "    for feature in thi_columns_of_interest:\n",
    "        data = np.array(thiDf[feature].to_list())\n",
    "        thiFeatures.append(np.sum(data))\n",
    "        thiFeatures.append(np.median(data))\n",
    "        thiFeatures.append(np.mean(data))\n",
    "        thiFeatures.append(50)\n",
    "        thiFeatures.append(np.std(data))\n",
    "        thiFeatures.append(np.var(data))\n",
    "        thiFeatures.append(np.sqrt(np.mean(data**2)))\n",
    "        thiFeatures.append(max(data))\n",
    "        thiFeatures.append(max(map(abs, data)))\n",
    "        thiFeatures.append(min(data))\n",
    "    thiFeatures = np.array([thiFeatures])\n",
    "    thiFeatures = thiFeatures.astype(np.float32)\n",
    "    pred_onx = thingy.run([label_name_thingy], {input_name_thingy: thiFeatures})[0]\n",
    "    return pred_onx\n",
    "        "
   ]
  },
  {
   "cell_type": "code",
   "execution_count": 24,
   "metadata": {},
   "outputs": [],
   "source": [
    "import json\n",
    "class NumpyEncoder(json.JSONEncoder):\n",
    "    def default(self, obj):\n",
    "        if isinstance(obj, np.ndarray):\n",
    "            return obj.tolist()\n",
    "        return json.JSONEncoder.default(self, obj)\n",
    "\n"
   ]
  },
  {
   "cell_type": "code",
   "execution_count": 26,
   "metadata": {},
   "outputs": [
    {
     "name": "stdout",
     "output_type": "stream",
     "text": [
      "{\"array\": [10]}\n"
     ]
    }
   ],
   "source": [
    "numpyData = {\"result\": thingy_predict()}\n",
    "encodedNumpyData = json.dumps(numpyData, cls=NumpyEncoder)\n",
    "\n",
    "print(encodedNumpyData)"
   ]
  }
 ],
 "metadata": {
  "kernelspec": {
   "display_name": "Python 3.7.13 ('pdiot')",
   "language": "python",
   "name": "python3"
  },
  "language_info": {
   "codemirror_mode": {
    "name": "ipython",
    "version": 3
   },
   "file_extension": ".py",
   "mimetype": "text/x-python",
   "name": "python",
   "nbconvert_exporter": "python",
   "pygments_lexer": "ipython3",
   "version": "3.7.13"
  },
  "orig_nbformat": 4,
  "vscode": {
   "interpreter": {
    "hash": "128f6426d7d6ac20922845042d08726f0d238c6f6b52a513409d453d4c12d086"
   }
  }
 },
 "nbformat": 4,
 "nbformat_minor": 2
}
